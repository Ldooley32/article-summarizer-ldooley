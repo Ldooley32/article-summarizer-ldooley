{
 "cells": [
  {
   "cell_type": "markdown",
   "metadata": {},
   "source": [
    "# Web Mining and Applied NLP (44-620)\n",
    "\n",
    "## Final Project: Article Summarizer\n",
    "\n",
    "### Student Name: Laura Dooley \n",
    "## GitHub RepO: https://github.com/Ldooley32/article-summarizer-ldooley\n",
    "\n",
    "Perform the tasks described in the Markdown cells below.  When you have completed the assignment make sure your code cells have all been run (and have output beneath them) and ensure you have committed and pushed ALL of your changes to your assignment repository.\n",
    "\n",
    "You should bring in code from previous assignments to help you answer the questions below.\n",
    "\n",
    "Every question that requires you to write code will have a code cell underneath it; you may either write your entire solution in that cell or write it in a python file (`.py`), then import and run the appropriate code to answer the question."
   ]
  },
  {
   "cell_type": "markdown",
   "metadata": {},
   "source": [
    "## Question 1\n",
    " Find on the internet an article or blog post about a topic that interests you and you are able to get the text for using the technologies we have applied in the course.  Get the html for the article and store it in a file (which you must submit with your project)"
   ]
  },
  {
   "cell_type": "code",
   "execution_count": 53,
   "metadata": {},
   "outputs": [
    {
     "name": "stdout",
     "output_type": "stream",
     "text": [
      "Lyrics saved to Respect.json\n"
     ]
    }
   ],
   "source": [
    "import requests\n",
    "import json\n",
    "import spacy\n",
    "from collections import Counter\n",
    "from spacytextblob.spacytextblob import SpacyTextBlob\n",
    "from IPython.display import display, Markdown\n",
    "from bs4 import BeautifulSoup\n",
    "import matplotlib.pyplot as plt \n",
    "\n",
    "url = 'https://api.lyrics.ovh/v1/Aretha Franklin/Respect'\n",
    "\n",
    "result = json.loads(requests.get(url).text)\n",
    "\n",
    "# Define the folder and file paths\n",
    "file_name = 'Respect.json'\n",
    "\n",
    "\n",
    "# Write the result to the JSON file\n",
    "with open(file_name, 'w', encoding='utf-8') as file:\n",
    "    json.dump(result, file, ensure_ascii=False, indent=4)\n",
    "\n",
    "print(f\"Lyrics saved to {file_name}\")"
   ]
  },
  {
   "cell_type": "markdown",
   "metadata": {},
   "source": [
    "## Question 2\n",
    " Read in your article's html source from the file you created in question 1 and do sentiment analysis on the article/post's text (use `.get_text()`).  Print the polarity score with an appropriate label.  Additionally print the number of sentences in the original article (with an appropriate label)"
   ]
  },
  {
   "cell_type": "code",
   "execution_count": 54,
   "metadata": {},
   "outputs": [
    {
     "data": {
      "text/markdown": [
       "*Respect* lyrics have a Polarity Score of -0.21541666666666667"
      ],
      "text/plain": [
       "<IPython.core.display.Markdown object>"
      ]
     },
     "metadata": {},
     "output_type": "display_data"
    },
    {
     "data": {
      "text/markdown": [
       "*Respect* lyrics contains 21 sentences"
      ],
      "text/plain": [
       "<IPython.core.display.Markdown object>"
      ]
     },
     "metadata": {},
     "output_type": "display_data"
    }
   ],
   "source": [
    "# Load spaCy\n",
    "nlp = spacy.load(\"en_core_web_sm\")\n",
    "\n",
    "# Add spacytextblob to pipeline\n",
    "nlp.add_pipe(\"spacytextblob\")\n",
    "\n",
    "# Extract only the lyrics text from the API response\n",
    "lyrics = result.get('lyrics', '')\n",
    "\n",
    "# Process lyrics with spaCy \n",
    "doc = nlp(lyrics)\n",
    "\n",
    "# perform sentiment analysis for a polarity score\n",
    "polarity = doc._.blob.polarity  \n",
    "\n",
    "display(Markdown(f\"*Respect* lyrics have a Polarity Score of {polarity}\"))\n",
    "\n",
    "# Parse the HTML content using BeautifulSoup\n",
    "soup = BeautifulSoup(lyrics, 'html.parser')\n",
    "\n",
    "# Extract the text from the HTML\n",
    "lyrics_text = soup.get_text()\n",
    "\n",
    "# Process the text with SpaCy to create a Doc object\n",
    "doc = nlp(lyrics_text)\n",
    "\n",
    "# Count the number of sentences\n",
    "num_sentences = len(list(doc.sents))\n",
    "\n",
    "display(Markdown(f\"*Respect* lyrics contains {num_sentences} sentences\"))\n"
   ]
  },
  {
   "cell_type": "markdown",
   "metadata": {},
   "source": [
    "## Question 3\n",
    " Load the article text into a trained `spaCy` pipeline, and determine the 5 most frequent tokens (converted to lower case).  Print the common tokens with an appropriate label.  Additionally, print the tokens their frequencies (with appropriate labels)"
   ]
  },
  {
   "cell_type": "code",
   "execution_count": 55,
   "metadata": {},
   "outputs": [
    {
     "data": {
      "text/markdown": [
       "Top 5 Most Frequent Tokens in *Respect* lyrics:"
      ],
      "text/plain": [
       "<IPython.core.display.Markdown object>"
      ]
     },
     "metadata": {},
     "output_type": "display_data"
    },
    {
     "data": {
      "text/markdown": [
       "Token: 'little', Frequency: 27"
      ],
      "text/plain": [
       "<IPython.core.display.Markdown object>"
      ]
     },
     "metadata": {},
     "output_type": "display_data"
    },
    {
     "data": {
      "text/markdown": [
       "Token: 'bit', Frequency: 22"
      ],
      "text/plain": [
       "<IPython.core.display.Markdown object>"
      ]
     },
     "metadata": {},
     "output_type": "display_data"
    },
    {
     "data": {
      "text/markdown": [
       "Token: 'home', Frequency: 9"
      ],
      "text/plain": [
       "<IPython.core.display.Markdown object>"
      ]
     },
     "metadata": {},
     "output_type": "display_data"
    },
    {
     "data": {
      "text/markdown": [
       "Token: 'sock', Frequency: 8"
      ],
      "text/plain": [
       "<IPython.core.display.Markdown object>"
      ]
     },
     "metadata": {},
     "output_type": "display_data"
    },
    {
     "data": {
      "text/markdown": [
       "Token: 'respect', Frequency: 7"
      ],
      "text/plain": [
       "<IPython.core.display.Markdown object>"
      ]
     },
     "metadata": {},
     "output_type": "display_data"
    }
   ],
   "source": [
    "# Load spaCy model\n",
    "nlp = spacy.load(\"en_core_web_sm\")\n",
    "nlp.add_pipe(\"spacytextblob\")\n",
    "\n",
    "# Parse the HTML content using BeautifulSoup (if the lyrics are in HTML format)\n",
    "soup = BeautifulSoup(lyrics, 'html.parser')\n",
    "\n",
    "# Extract the plain text from the HTML\n",
    "lyrics_text = soup.get_text()\n",
    "\n",
    "# Process the text with spaCy\n",
    "doc = nlp(lyrics_text)\n",
    "\n",
    "# Filter tokens: remove punctuation, stopwords, and whitespace\n",
    "filtered_tokens = [\n",
    "    token.text.lower() for token in doc\n",
    "    if not token.is_stop and not token.is_punct and not token.is_space\n",
    "]\n",
    "\n",
    "# Count token frequencies\n",
    "token_counts = Counter(filtered_tokens)\n",
    "\n",
    "# Get the 5 most common tokens\n",
    "most_common_tokens = token_counts.most_common(5)\n",
    "\n",
    "# Display the top 5 most frequent tokens\n",
    "display(Markdown(f\"Top 5 Most Frequent Tokens in *Respect* lyrics:\"))\n",
    "for token, freq in most_common_tokens:\n",
    "    display(Markdown(f\"Token: '{token}', Frequency: {freq}\"))\n"
   ]
  },
  {
   "cell_type": "markdown",
   "metadata": {},
   "source": [
    "## Question 4\n",
    "Load the article text into a trained `spaCy` pipeline, and determine the 5 most frequent lemmas (converted to lower case).  Print the common lemmas with an appropriate label.  Additionally, print the lemmas with their frequencies (with appropriate labels)."
   ]
  },
  {
   "cell_type": "code",
   "execution_count": 56,
   "metadata": {},
   "outputs": [
    {
     "data": {
      "text/markdown": [
       "Top 5 Most Frequent Lemmas in *Respect* lyrics:"
      ],
      "text/plain": [
       "<IPython.core.display.Markdown object>"
      ]
     },
     "metadata": {},
     "output_type": "display_data"
    },
    {
     "data": {
      "text/markdown": [
       "Lemma: 'little', Frequency: 27"
      ],
      "text/plain": [
       "<IPython.core.display.Markdown object>"
      ]
     },
     "metadata": {},
     "output_type": "display_data"
    },
    {
     "data": {
      "text/markdown": [
       "Lemma: 'bit', Frequency: 22"
      ],
      "text/plain": [
       "<IPython.core.display.Markdown object>"
      ]
     },
     "metadata": {},
     "output_type": "display_data"
    },
    {
     "data": {
      "text/markdown": [
       "Lemma: 'home', Frequency: 9"
      ],
      "text/plain": [
       "<IPython.core.display.Markdown object>"
      ]
     },
     "metadata": {},
     "output_type": "display_data"
    },
    {
     "data": {
      "text/markdown": [
       "Lemma: 'sock', Frequency: 8"
      ],
      "text/plain": [
       "<IPython.core.display.Markdown object>"
      ]
     },
     "metadata": {},
     "output_type": "display_data"
    },
    {
     "data": {
      "text/markdown": [
       "Lemma: 'respect', Frequency: 7"
      ],
      "text/plain": [
       "<IPython.core.display.Markdown object>"
      ]
     },
     "metadata": {},
     "output_type": "display_data"
    }
   ],
   "source": [
    "\n",
    "nlp = spacy.load(\"en_core_web_sm\")\n",
    "\n",
    "# Example article text (replace with your actual article text)\n",
    "lyrics = result.get('lyrics', '')\n",
    "\n",
    "# Process the article text using the trained spaCy pipeline\n",
    "doc = nlp(lyrics)\n",
    "\n",
    "# Filter tokens: remove punctuation, stopwords, and whitespace, keeping lemmatized forms\n",
    "filtered_lemmas = [\n",
    "    token.lemma_.lower() for token in doc\n",
    "    if not token.is_stop and not token.is_punct and not token.is_space\n",
    "]\n",
    "\n",
    "# Count lemma frequencies\n",
    "lemma_counts = Counter(filtered_lemmas)\n",
    "\n",
    "# Get the 5 most common lemmas\n",
    "most_common_lemmas = lemma_counts.most_common(5)\n",
    "\n",
    "# Display the top 5 most frequent lemmas\n",
    "display(Markdown(f\"Top 5 Most Frequent Lemmas in *Respect* lyrics:\"))\n",
    "for lemma, freq in most_common_lemmas:\n",
    "    display(Markdown(f\"Lemma: '{lemma}', Frequency: {freq}\"))\n"
   ]
  },
  {
   "cell_type": "markdown",
   "metadata": {},
   "source": [
    "## Question 5\n",
    "Make a list containing the scores (using tokens) of every sentence in the article, and plot a histogram with appropriate titles and axis labels of the scores. From your histogram, what seems to be the most common range of scores (put the answer in a comment after your code)?"
   ]
  },
  {
   "cell_type": "code",
   "execution_count": 57,
   "metadata": {},
   "outputs": [
    {
     "data": {
      "image/png": "[encoded data removed]",
      "text/plain": [
       "<Figure size 1000x600 with 1 Axes>"
      ]
     },
     "metadata": {},
     "output_type": "display_data"
    }
   ],
   "source": [
    "# Load spaCy model and add spacytextblob to the pipeline\n",
    "nlp = spacy.load(\"en_core_web_sm\")\n",
    "nlp.add_pipe(\"spacytextblob\")\n",
    "\n",
    "# Extract lyrics text from API response\n",
    "lyrics = result.get('lyrics', '')\n",
    "\n",
    "# Process the lyrics with spaCy\n",
    "doc = nlp(lyrics)\n",
    "\n",
    "# List to hold the polarity score of each sentence\n",
    "sentence_polarities = []\n",
    "\n",
    "# Loop through each sentence in the document\n",
    "for sent in doc.sents:\n",
    "    # Get the polarity score of each sentence using spacytextblob\n",
    "    sentence_polarities_tokens = sent._.blob.polarity\n",
    "    sentence_polarities.append(sentence_polarities_tokens)\n",
    "\n",
    "# Plot histogram of sentence polarities\n",
    "plt.figure(figsize=(10, 6))\n",
    "plt.hist(sentence_polarities, bins=20, color='skyblue', edgecolor='black')\n",
    "plt.title(\"Histogram of Sentiment Polarity Scores for Each Sentence in *Respect* Lyrics\")\n",
    "plt.xlabel(\"Polarity Score\")\n",
    "plt.ylabel(\"Frequency\")\n",
    "plt.grid(True)\n",
    "plt.show()"
   ]
  },
  {
   "cell_type": "markdown",
   "metadata": {},
   "source": [
    "## Question 6\n",
    "Make a list containing the scores (using lemmas) of every sentence in the article, and plot a histogram with appropriate titles and axis labels of the scores.  From your histogram, what seems to be the most common range of scores (put the answer in a comment after your code)?"
   ]
  },
  {
   "cell_type": "code",
   "execution_count": 58,
   "metadata": {},
   "outputs": [
    {
     "data": {
      "image/png": "[encoded data removed]",
      "text/plain": [
       "<Figure size 1000x600 with 1 Axes>"
      ]
     },
     "metadata": {},
     "output_type": "display_data"
    }
   ],
   "source": [
    "# Load spaCy model and add spacytextblob to pipeline\n",
    "nlp = spacy.load(\"en_core_web_sm\")\n",
    "nlp.add_pipe(\"spacytextblob\")\n",
    "\n",
    "# Extract lyrics text from API response\n",
    "lyrics = result.get('lyrics', '')\n",
    "\n",
    "# Process the lyrics with spaCy\n",
    "doc = nlp(lyrics)\n",
    "\n",
    "# List to hold the polarity score of each sentence\n",
    "sentence_polarities = []\n",
    "\n",
    "# Loop through each sentence in the document\n",
    "for sent in doc.sents:\n",
    "    # Filter lemmas for the sentence (remove stopwords, punctuation, and whitespace)\n",
    "    filtered_lemmas = [\n",
    "        token.lemma_.lower() for token in sent\n",
    "        if not token.is_stop and not token.is_punct and not token.is_space\n",
    "    ]\n",
    "    \n",
    "    # Calculate polarity based on filtered lemmas (using spaCyTextBlob)\n",
    "    sentence_polarities_lemmas = sent._.blob.polarity\n",
    "    sentence_polarities.append(sentence_polarities_lemmas)\n",
    "\n",
    "# Plot histogram of sentence polarities\n",
    "plt.figure(figsize=(10, 6))\n",
    "plt.hist(sentence_polarities, bins=20, color='skyblue', edgecolor='black')\n",
    "plt.title(\"Histogram of Sentiment Polarity Scores for Each Sentence in *Respect* Lyrics\")\n",
    "plt.xlabel(\"Polarity Score\")\n",
    "plt.ylabel(\"Frequency\")\n",
    "plt.grid(True)\n",
    "plt.show()\n",
    "\n"
   ]
  },
  {
   "cell_type": "markdown",
   "metadata": {},
   "source": [
    "## Question 7 \n",
    " Using the histograms from questions 5 and 6, decide a \"cutoff\" score for tokens and lemmas such that fewer than half the sentences would have a score greater than the cutoff score.  Record the scores in this Markdown cell\n",
    "\n",
    "* Cutoff Score (tokens): -0.2\n",
    "* Cutoff Score (lemmas): -0.2\n",
    "\n",
    "Feel free to change these scores as you generate your summaries.  Ideally, we're shooting for at least 6 sentences for our summary, but don't want more than 10 (these numbers are rough estimates; they depend on the length of your article)."
   ]
  },
  {
   "cell_type": "markdown",
   "metadata": {},
   "source": [
    "## Question 8 \n",
    " Create a summary of the article by going through every sentence in the article and adding it to an (initially) empty list if its score (based on tokens) is greater than the cutoff score you identified in question 8.  If your loop variable is named `sent`, you may find it easier to add `sent.text.strip()` to your list of sentences.  Print the summary (I would cleanly generate the summary text by `join`ing the strings in your list together with a space (`' '.join(sentence_list)`)."
   ]
  },
  {
   "cell_type": "code",
   "execution_count": 59,
   "metadata": {},
   "outputs": [
    {
     "name": "stdout",
     "output_type": "stream",
     "text": [
      "Cutoff token score : -0.1875\n",
      "Generated Summary Token:\n",
      "What you want\n",
      "Baby, I got it\n",
      "What you need\n",
      "Do you know I got it? I'm about to give you all of my money And all I'm askin' in return, honey\n",
      "\n",
      "Is to give me my propers\n",
      "\n",
      "When you get home (just a, just a, just a, just a) Yeah baby (just a, just a, just a, just a) So is my money\n",
      "\n",
      "All I want you to do for me\n",
      "\n",
      "Is give it to me when you get home (re, re, re ,re)\n"
     ]
    }
   ],
   "source": [
    "# Example: Compute cutoff if not already done\n",
    "sentence_polarities_tokens = [sent._.blob.polarity for sent in doc.sents]\n",
    "cutoff_tokens = sorted(sentence_polarities_tokens)[len(sentence_polarities_tokens) // 2]\n",
    "\n",
    "# Print cutoff for confirmation\n",
    "print(f\"Cutoff token score : {cutoff_tokens}\")\n",
    "\n",
    "# Initialize an empty list to hold sentences above the cutoff score\n",
    "summary_sentences = []\n",
    "\n",
    "# Loop through each sentence in the article\n",
    "for sent in doc.sents:\n",
    "    # Calculate polarity score based on tokens\n",
    "    polarity_score = sent._.blob.polarity\n",
    "\n",
    "    # Add the sentence to the summary if its polarity score is above the cutoff\n",
    "    if polarity_score > cutoff_tokens:\n",
    "        summary_sentences.append(sent.text.strip())\n",
    "\n",
    "# Generate the summary text by joining the sentences with spaces\n",
    "summary_text = ' '.join(summary_sentences)\n",
    "\n",
    "# Print the summary\n",
    "print(\"Generated Summary Token:\")\n",
    "print(summary_text)\n"
   ]
  },
  {
   "cell_type": "markdown",
   "metadata": {},
   "source": [
    "## Question 9\n",
    "Print the polarity score of your summary you generated with the token scores (with an appropriate label). Additionally, print the number of sentences in the summarized article."
   ]
  },
  {
   "cell_type": "code",
   "execution_count": 60,
   "metadata": {},
   "outputs": [
    {
     "name": "stdout",
     "output_type": "stream",
     "text": [
      "Polarity Score of Summary: 0.0\n",
      "Number of Sentences in Summary: 5\n"
     ]
    }
   ],
   "source": [
    "# Calculate the polarity score of the generated summary\n",
    "summary_doc = nlp(summary_text)  # Process the summary text with spaCy\n",
    "summary_polarity = summary_doc._.blob.polarity  # Polarity score of the summary\n",
    "\n",
    "# Count the number of sentences in the summarized article\n",
    "num_summary_sentences = len(list(summary_doc.sents))\n",
    "\n",
    "# Print results\n",
    "print(f\"Polarity Score of Summary: {summary_polarity}\")\n",
    "print(f\"Number of Sentences in Summary: {num_summary_sentences}\")\n"
   ]
  },
  {
   "cell_type": "markdown",
   "metadata": {},
   "source": [
    "## Question 10\n",
    "Create a summary of the article by going through every sentence in the article and adding it to an (initially) empty list if its score (based on lemmas) is greater than the cutoff score you identified in question 8.  If your loop variable is named `sent`, you may find it easier to add `sent.text.strip()` to your list of sentences.  Print the summary (I would cleanly generate the summary text by `join`ing the strings in your list together with a space (`' '.join(sentence_list)`)."
   ]
  },
  {
   "cell_type": "code",
   "execution_count": 61,
   "metadata": {},
   "outputs": [
    {
     "name": "stdout",
     "output_type": "stream",
     "text": [
      "Cutoff Score lemmas: -0.1875\n",
      "Generated Summary Lemma Scores:\n",
      "What you want\n",
      "Baby, I got it\n",
      "What you need\n",
      "Do you know I got it? I'm about to give you all of my money And all I'm askin' in return, honey\n",
      "\n",
      "Is to give me my propers\n",
      "\n",
      "When you get home (just a, just a, just a, just a) Yeah baby (just a, just a, just a, just a) So is my money\n",
      "\n",
      "All I want you to do for me\n",
      "\n",
      "Is give it to me when you get home (re, re, re ,re)\n"
     ]
    }
   ],
   "source": [
    "# Step 1: Calculate lemma polarity scores and determine cutoff\n",
    "sentence_polarities_lemmas = [sent._.blob.polarity for sent in doc.sents]\n",
    "cutoff_lemmas = sorted(sentence_polarities_lemmas)[len(sentence_polarities_lemmas) // 2]\n",
    "\n",
    "# Print cutoff score for confirmation\n",
    "print(f\"Cutoff Score lemmas: {cutoff_lemmas}\")\n",
    "\n",
    "# Step 2: Create a summary based on lemma polarity scores\n",
    "summary_sentences_lemmas = []\n",
    "\n",
    "# Loop through each sentence in the article\n",
    "for sent in doc.sents:\n",
    "    polarity_score = sent._.blob.polarity\n",
    "\n",
    "    # Add sentence if polarity score is above cutoff\n",
    "    if polarity_score > cutoff_lemmas:\n",
    "        summary_sentences_lemmas.append(sent.text.strip())\n",
    "\n",
    "# Generate summary text\n",
    "summary_text_lemmas = ' '.join(summary_sentences_lemmas)\n",
    "\n",
    "# Print the summary\n",
    "print(\"Generated Summary Lemma Scores:\")\n",
    "print(summary_text_lemmas)\n"
   ]
  },
  {
   "cell_type": "markdown",
   "metadata": {},
   "source": [
    "## Question 11\n",
    " Print the polarity score of your summary you generated with the lemma scores (with an appropriate label). Additionally, print the number of sentences in the summarized article."
   ]
  },
  {
   "cell_type": "code",
   "execution_count": 62,
   "metadata": {},
   "outputs": [
    {
     "name": "stdout",
     "output_type": "stream",
     "text": [
      "Polarity Score of Summary (Lemma Scores): 0.0\n",
      "Number of Sentences in Summary (Lemma Scores): 5\n"
     ]
    }
   ],
   "source": [
    "# Step 1: Process the summary text with spaCy\n",
    "summary_doc_lemmas = nlp(summary_text_lemmas)\n",
    "\n",
    "# Step 2: Calculate the polarity score of the summary\n",
    "summary_polarity_lemmas = summary_doc_lemmas._.blob.polarity\n",
    "\n",
    "# Step 3: Count the number of sentences in the summarized article\n",
    "num_summary_sentences_lemmas = len(list(summary_doc_lemmas.sents))\n",
    "\n",
    "# Step 4: Print results\n",
    "print(f\"Polarity Score of Summary (Lemma Scores): {summary_polarity_lemmas}\")\n",
    "print(f\"Number of Sentences in Summary (Lemma Scores): {num_summary_sentences_lemmas}\")\n"
   ]
  },
  {
   "cell_type": "markdown",
   "metadata": {},
   "source": [
    "## Question 12\n",
    "  Compare your polarity scores of your summaries to the polarity scores of the initial article.  Is there a difference?  Why do you think that may or may not be?.  Answer in this Markdown cell.  \n",
    "___\n",
    "The original article had a token and lemma polarity score of -0.1875. The songs theme is of struggle and longing. The negative sentiment is reflective of the negative polarity score. The summary score is 0 indicating neutality. The summary has a more balanced sentiment. It contains phrases that are expressing positive and negative aspects resulting in a neutral score."
   ]
  },
  {
   "cell_type": "markdown",
   "metadata": {},
   "source": [
    "## Question 13\n",
    " Based on your reading of the original article, which summary do you think is better (if there's a difference).  Why do you think this might be?\n",
    "___\n",
    "Both summaries are the same. There is no difference producing the same emotional tone. "
   ]
  }
 ],
 "metadata": {
  "kernelspec": {
   "display_name": "venv",
   "language": "python",
   "name": "python3"
  },
  "language_info": {
   "codemirror_mode": {
    "name": "ipython",
    "version": 3
   },
   "file_extension": ".py",
   "mimetype": "text/x-python",
   "name": "python",
   "nbconvert_exporter": "python",
   "pygments_lexer": "ipython3",
   "version": "3.11.9"
  }
 },
 "nbformat": 4,
 "nbformat_minor": 4
}
